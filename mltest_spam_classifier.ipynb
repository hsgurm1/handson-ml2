{
  "nbformat": 4,
  "nbformat_minor": 0,
  "metadata": {
    "colab": {
      "name": "Untitled1.ipynb",
      "provenance": [],
      "collapsed_sections": [],
      "authorship_tag": "ABX9TyPy9A3d6cNJmW1Dr92NiVg6",
      "include_colab_link": true
    },
    "kernelspec": {
      "name": "python3",
      "display_name": "Python 3"
    }
  },
  "cells": [
    {
      "cell_type": "markdown",
      "metadata": {
        "id": "view-in-github",
        "colab_type": "text"
      },
      "source": [
        "<a href=\"https://colab.research.google.com/github/hsgurm1/handson-ml2/blob/master/mltest_spam_classifier.ipynb\" target=\"_parent\"><img src=\"https://colab.research.google.com/assets/colab-badge.svg\" alt=\"Open In Colab\"/></a>"
      ]
    },
    {
      "cell_type": "code",
      "metadata": {
        "id": "NVs3JnUcz01G",
        "colab_type": "code",
        "colab": {}
      },
      "source": [
        "import os\n",
        "import urllib\n",
        "import tarfile\n",
        "\n",
        "remote_url = \"https://spamassassin.apache.org/old/publiccorpus/\"\n",
        "staging_path = \"/tmp/downloads/dataset\"\n",
        "h_url = remote_url + \"20021010_easy_ham.tar.bz2\"\n",
        "s_url = remote_url + \"20021010_spam.tar.bz2\"\n",
        "local_path = \"/tmp/downloads/\"\n",
        "\n",
        "def download_d(url=remote_url, lpath=local_path, spath=staging_path):\n",
        "  if not os.path.isdir(lpath):\n",
        "    os.mkdirs(lpath)\n",
        "    print(\"Creating a new directory\")\n",
        "  if not os.path.isdir(spath):\n",
        "    os.mkdirs(spath)\n",
        "    print(\"Creating a new directory\")\n",
        "  for filename, url in ((\"ham.tar.bz2\", h_url),(\"spam.tar.bz2\", s_url)):\n",
        "    sorted_filename = os.path.join(lpath,filename)\n",
        "    if not os.path.isfile(sorted_filename):\n",
        "      urllib.request.urlretrieve(url, sorted_filename) \n",
        "      print(\"Listing lpath\" + os.listdir(lpath))\n",
        "    topen = tarfile.open(sorted_filename)\n",
        "    topen.extractall(path=spath)\n",
        "    topen.close()\n",
        "    print(\"Listing spath\" + str(os.listdir(spath)))\n",
        "    print(\"Downloaded all\")\n",
        "  "
      ],
      "execution_count": 0,
      "outputs": []
    },
    {
      "cell_type": "code",
      "metadata": {
        "id": "eutapQgb_fBU",
        "colab_type": "code",
        "colab": {
          "base_uri": "https://localhost:8080/",
          "height": 85
        },
        "outputId": "4c036b1a-c6d5-45a0-fea2-a79ea86bd760"
      },
      "source": [
        "download_d()"
      ],
      "execution_count": 42,
      "outputs": [
        {
          "output_type": "stream",
          "text": [
            "Listing spath['easy_ham', 'spam']\n",
            "Downloaded all\n",
            "Listing spath['easy_ham', 'spam']\n",
            "Downloaded all\n"
          ],
          "name": "stdout"
        }
      ]
    }
  ]
}