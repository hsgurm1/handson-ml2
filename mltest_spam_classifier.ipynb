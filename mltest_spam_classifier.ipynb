{
  "nbformat": 4,
  "nbformat_minor": 0,
  "metadata": {
    "colab": {
      "name": "Untitled1.ipynb",
      "provenance": [],
      "collapsed_sections": [],
      "authorship_tag": "ABX9TyNbztBkFFmvU9PvRwPlngsX",
      "include_colab_link": true
    },
    "kernelspec": {
      "name": "python3",
      "display_name": "Python 3"
    }
  },
  "cells": [
    {
      "cell_type": "markdown",
      "metadata": {
        "id": "view-in-github",
        "colab_type": "text"
      },
      "source": [
        "<a href=\"https://colab.research.google.com/github/hsgurm1/handson-ml2/blob/master/mltest_spam_classifier.ipynb\" target=\"_parent\"><img src=\"https://colab.research.google.com/assets/colab-badge.svg\" alt=\"Open In Colab\"/></a>"
      ]
    },
    {
      "cell_type": "code",
      "metadata": {
        "id": "NVs3JnUcz01G",
        "colab_type": "code",
        "colab": {}
      },
      "source": [
        "import os\n",
        "import urllib\n",
        "import tarfile\n",
        "\n",
        "remote_url = \"https://spamassassin.apache.org/old/publiccorpus/20021010_easy_ham.tar.bz2\"\n",
        "local_path = \"/tmp/downloads\"\n",
        "staging_path = \"/tmp/downloads/dataset\"\n",
        "\n",
        "def download_d(url=remote_url, lpath=local_path, spath=staging_path):\n",
        "  if not os.path.isdir(lpath):\n",
        "    os.mkdir(lpath)\n",
        "  if not os.path.isdir(spath):\n",
        "    os.mkdir(spath)\n",
        "    print(\"Creating a new directory\")\n",
        "    urllib.request.urlretrieve(url, lpath) \n",
        "    print(os.listdir(lpath))\n",
        "    topen = tarfile.open(lpath)\n",
        "    topen.extractall(path=spath)\n",
        "    print(\"Downloaded all\")\n",
        "  "
      ],
      "execution_count": 0,
      "outputs": []
    },
    {
      "cell_type": "code",
      "metadata": {
        "id": "eutapQgb_fBU",
        "colab_type": "code",
        "colab": {}
      },
      "source": [
        "download_d()"
      ],
      "execution_count": 0,
      "outputs": []
    }
  ]
}